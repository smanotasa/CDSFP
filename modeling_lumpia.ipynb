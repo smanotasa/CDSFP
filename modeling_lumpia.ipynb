{
 "cells": [
  {
   "cell_type": "code",
   "execution_count": null,
   "metadata": {},
   "outputs": [],
   "source": [
    "from lumpia.load_data import *\n",
    "from lumpia.model import *\n",
    "from lumpia.pre_processing import *\n",
    "from lumpia.train_test import *\n",
    "from lumpia.evaluation import *\n",
    "from lumpia.features import *\n",
    "\n",
    "import warnings\n",
    "warnings.filterwarnings(\"ignore\")"
   ]
  },
  {
   "cell_type": "code",
   "execution_count": null,
   "metadata": {},
   "outputs": [],
   "source": [
    "#Pre-processing: Data cleansing for proper usage\n",
    "\n",
    "churn_raw = read_data('churn_data.csv')\n",
    "churn_df = drop_nan(churn_raw, ['DataUsage','ContractRenewal'])"
   ]
  },
  {
   "cell_type": "code",
   "execution_count": null,
   "metadata": {},
   "outputs": [],
   "source": [
    "#Features: Creation of features depending on the database's information\n",
    "\n",
    "churn_df = get.dummies(churn_df, ['DataPlan','ContractRenewal'])\n",
    "to_norm = ['AccountWeeks','DataUsage','CustServCalls','DayMins','DayCalls','MonthlyCharge','RoamMins']\n",
    "churn_df = normalize(churn_df, to_norm)\n",
    "churn_df = take_log(churn_df, ['OverageFee'])"
   ]
  },
  {
   "cell_type": "code",
   "execution_count": null,
   "metadata": {},
   "outputs": [],
   "source": [
    "#Split: Partition the dataset for training and testing a set model\n",
    "X_train, X_test, y_train, y_test = split(churn_df)"
   ]
  },
  {
   "cell_type": "code",
   "execution_count": null,
   "metadata": {},
   "outputs": [],
   "source": [
    "#Trainer: Definition of a model from the dataset to make predictions\n",
    "\n",
    "feature_cols = ['AccountWeeks','DataUsage','CustServCalls','DayMins','DayCalls','MonthlyCharge','RoamMins','OverageFee']\n",
    "target_cols = ['Churn']\n",
    "\n",
    "results = train_model(X_train, X_test, y_train, y_test, feature_cols, target_cols)"
   ]
  },
  {
   "cell_type": "code",
   "execution_count": null,
   "metadata": {},
   "outputs": [],
   "source": [
    "#Assessment: Evaluation of the model's performance with a given accuracy computation\n",
    "\n",
    "train_auc, test_auc = get_roc_auc_score(results)"
   ]
  }
 ],
 "metadata": {
  "kernelspec": {
   "display_name": "Python 3.9.12 ('py39')",
   "language": "python",
   "name": "python3"
  },
  "language_info": {
   "name": "python",
   "version": "3.9.12"
  },
  "orig_nbformat": 4,
  "vscode": {
   "interpreter": {
    "hash": "3b18b2102a576fc901eebdfe7fdf89596ed43efbff82a87830809427a546707d"
   }
  }
 },
 "nbformat": 4,
 "nbformat_minor": 2
}
