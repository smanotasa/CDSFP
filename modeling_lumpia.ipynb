{
 "cells": [
  {
   "cell_type": "code",
   "execution_count": 1,
   "metadata": {},
   "outputs": [],
   "source": [
    "from lumpia.load_data.load_data import read_data\n",
    "from lumpia.model.model import train_model\n",
    "from lumpia.pre_processing.pre_processing import drop_nan, fill_mean\n",
    "from lumpia.train_test.train_test import split\n",
    "from lumpia.evaluation.evaluation import get_roc_auc_score\n",
    "from lumpia.features.features import gen_dummies, normalize, take_log\n",
    "import numpy as np\n",
    "\n",
    "import warnings\n",
    "warnings.filterwarnings(\"ignore\")"
   ]
  },
  {
   "cell_type": "code",
   "execution_count": 2,
   "metadata": {},
   "outputs": [],
   "source": [
    "#Pre-processing: Data cleansing for proper usage\n",
    "\n",
    "churn_raw = read_data('churn_data.csv')\n",
    "churn_df = drop_nan(churn_raw, ['DataUsage','ContractRenewal'])"
   ]
  },
  {
   "cell_type": "code",
   "execution_count": 3,
   "metadata": {},
   "outputs": [],
   "source": [
    "#Features: Creation of features depending on the database's information\n",
    "\n",
    "churn_df = gen_dummies(churn_df, ['DataPlan','ContractRenewal'])\n",
    "\n",
    "cols_to_norm = ['AccountWeeks','DataUsage','CustServCalls','DayMins','DayCalls','MonthlyCharge','RoamMins']\n",
    "norm_df = normalize(churn_df, cols_to_norm)\n",
    "\n",
    "norm_df = take_log(norm_df, ['OverageFee'])\n"
   ]
  },
  {
   "cell_type": "code",
   "execution_count": 4,
   "metadata": {},
   "outputs": [
    {
     "name": "stdout",
     "output_type": "stream",
     "text": [
      "Index(['Churn', 'AccountWeeks', 'DataUsage', 'CustServCalls', 'DayMins',\n",
      "       'DayCalls', 'MonthlyCharge', 'OverageFee', 'RoamMins', 'DataPlan_1',\n",
      "       'ContractRenewal_1'],\n",
      "      dtype='object')\n"
     ]
    }
   ],
   "source": [
    "print(norm_df.columns)"
   ]
  },
  {
   "cell_type": "code",
   "execution_count": 5,
   "metadata": {},
   "outputs": [],
   "source": [
    "#Split: Partition the dataset for training and testing a set model\n",
    "X_train, X_test, y_train, y_test = split(norm_df)"
   ]
  },
  {
   "cell_type": "code",
   "execution_count": 6,
   "metadata": {},
   "outputs": [],
   "source": [
    "#Trainer: Definition of a model from the dataset to make predictions\n",
    "\n",
    "target_cols = ['Churn']\n",
    "feature_cols = list(norm_df.columns).remove('Churn')\n",
    "\n",
    "results = train_model(X_train, X_test, y_train, y_test, feature_cols, target_cols)"
   ]
  },
  {
   "cell_type": "code",
   "execution_count": 8,
   "metadata": {},
   "outputs": [
    {
     "name": "stdout",
     "output_type": "stream",
     "text": [
      "0.11437840162536517 0.22477515628150835\n"
     ]
    }
   ],
   "source": [
    "#Assessment: Evaluation of the model's performance with a given accuracy computation\n",
    "\n",
    "train_auc, test_auc = get_roc_auc_score(results)\n",
    "print(train_auc, test_auc)"
   ]
  },
  {
   "cell_type": "code",
   "execution_count": null,
   "metadata": {},
   "outputs": [],
   "source": []
  }
 ],
 "metadata": {
  "kernelspec": {
   "display_name": "Python 3",
   "language": "python",
   "name": "python3"
  },
  "language_info": {
   "codemirror_mode": {
    "name": "ipython",
    "version": 3
   },
   "file_extension": ".py",
   "mimetype": "text/x-python",
   "name": "python",
   "nbconvert_exporter": "python",
   "pygments_lexer": "ipython3",
   "version": "3.8.5"
  },
  "vscode": {
   "interpreter": {
    "hash": "3b18b2102a576fc901eebdfe7fdf89596ed43efbff82a87830809427a546707d"
   }
  }
 },
 "nbformat": 4,
 "nbformat_minor": 4
}
