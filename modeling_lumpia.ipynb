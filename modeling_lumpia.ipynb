{
 "cells": [
  {
   "cell_type": "code",
   "execution_count": null,
   "metadata": {},
   "outputs": [],
   "source": [
    "from lumpia.load_data import *\n",
    "from lumpia.model import *\n",
    "from lumpia.pre_processing import *\n",
    "from lumpia.train_test import *\n",
    "from lumpia.evaluation import *\n",
    "from lumpia.evaluation import *"
   ]
  }
 ],
 "metadata": {
  "kernelspec": {
   "display_name": "Python 3.9.12 ('py39')",
   "language": "python",
   "name": "python3"
  },
  "language_info": {
   "name": "python",
   "version": "3.9.12"
  },
  "orig_nbformat": 4,
  "vscode": {
   "interpreter": {
    "hash": "3b18b2102a576fc901eebdfe7fdf89596ed43efbff82a87830809427a546707d"
   }
  }
 },
 "nbformat": 4,
 "nbformat_minor": 2
}
