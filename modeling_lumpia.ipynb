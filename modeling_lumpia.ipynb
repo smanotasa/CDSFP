{
 "cells": [
  {
   "cell_type": "code",
   "execution_count": 2,
   "metadata": {},
   "outputs": [],
   "source": [
    "from lumpia.load_data.load_data import read_data\n",
    "from lumpia.model.model import train_model\n",
    "from lumpia.pre_processing.pre_processing import drop_nan, fill_mean\n",
    "from lumpia.train_test.train_test import split\n",
    "from lumpia.evaluation.evaluation import get_roc_auc_score\n",
    "from lumpia.features.features import gen_dummies, normalize, take_log\n",
    "\n",
    "import warnings\n",
    "warnings.filterwarnings(\"ignore\")"
   ]
  },
  {
   "cell_type": "code",
   "execution_count": 3,
   "metadata": {},
   "outputs": [
    {
     "ename": "TypeError",
     "evalue": "drop_nan() takes 1 positional argument but 2 were given",
     "output_type": "error",
     "traceback": [
      "\u001b[1;31m---------------------------------------------------------------------------\u001b[0m",
      "\u001b[1;31mTypeError\u001b[0m                                 Traceback (most recent call last)",
      "Cell \u001b[1;32mIn [3], line 4\u001b[0m\n\u001b[0;32m      1\u001b[0m \u001b[39m#Pre-processing: Data cleansing for proper usage\u001b[39;00m\n\u001b[0;32m      3\u001b[0m churn_raw \u001b[39m=\u001b[39m read_data(\u001b[39m'\u001b[39m\u001b[39mchurn_data.csv\u001b[39m\u001b[39m'\u001b[39m)\n\u001b[1;32m----> 4\u001b[0m churn_df \u001b[39m=\u001b[39m drop_nan(churn_raw, [\u001b[39m'\u001b[39;49m\u001b[39mDataUsage\u001b[39;49m\u001b[39m'\u001b[39;49m,\u001b[39m'\u001b[39;49m\u001b[39mContractRenewal\u001b[39;49m\u001b[39m'\u001b[39;49m])\n",
      "\u001b[1;31mTypeError\u001b[0m: drop_nan() takes 1 positional argument but 2 were given"
     ]
    }
   ],
   "source": [
    "#Pre-processing: Data cleansing for proper usage\n",
    "\n",
    "churn_raw = read_data('churn_data.csv')\n",
    "churn_df = drop_nan(churn_raw, ['DataUsage','ContractRenewal'])"
   ]
  },
  {
   "cell_type": "code",
   "execution_count": null,
   "metadata": {},
   "outputs": [],
   "source": [
    "#Features: Creation of features depending on the database's information\n",
    "\n",
    "churn_df = gen_dummies(churn_df, ['DataPlan','ContractRenewal'])\n",
    "to_norm = ['AccountWeeks','DataUsage','CustServCalls','DayMins','DayCalls','MonthlyCharge','RoamMins']\n",
    "churn_df = normalize(churn_df, to_norm)\n",
    "churn_df = take_log(churn_df, ['OverageFee'])"
   ]
  },
  {
   "cell_type": "code",
   "execution_count": null,
   "metadata": {},
   "outputs": [],
   "source": [
    "#Split: Partition the dataset for training and testing a set model\n",
    "X_train, X_test, y_train, y_test = split(churn_df)"
   ]
  },
  {
   "cell_type": "code",
   "execution_count": null,
   "metadata": {},
   "outputs": [],
   "source": [
    "#Trainer: Definition of a model from the dataset to make predictions\n",
    "\n",
    "feature_cols = ['AccountWeeks','DataUsage','CustServCalls','DayMins','DayCalls','MonthlyCharge','RoamMins','OverageFee']\n",
    "target_cols = ['Churn']\n",
    "\n",
    "results = train_model(X_train, X_test, y_train, y_test, feature_cols, target_cols)"
   ]
  },
  {
   "cell_type": "code",
   "execution_count": null,
   "metadata": {},
   "outputs": [],
   "source": [
    "#Assessment: Evaluation of the model's performance with a given accuracy computation\n",
    "\n",
    "train_auc, test_auc = get_roc_auc_score(results)"
   ]
  }
 ],
 "metadata": {
  "kernelspec": {
   "display_name": "Python 3.9.12 ('py39')",
   "language": "python",
   "name": "python3"
  },
  "language_info": {
   "codemirror_mode": {
    "name": "ipython",
    "version": 3
   },
   "file_extension": ".py",
   "mimetype": "text/x-python",
   "name": "python",
   "nbconvert_exporter": "python",
   "pygments_lexer": "ipython3",
   "version": "3.9.12"
  },
  "orig_nbformat": 4,
  "vscode": {
   "interpreter": {
    "hash": "3b18b2102a576fc901eebdfe7fdf89596ed43efbff82a87830809427a546707d"
   }
  }
 },
 "nbformat": 4,
 "nbformat_minor": 2
}
