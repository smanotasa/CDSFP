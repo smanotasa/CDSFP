{
 "cells": [
  {
   "cell_type": "code",
   "execution_count": 1,
   "metadata": {},
   "outputs": [],
   "source": [
    "from lumpia.load_data.load_data import read_data\n",
    "from lumpia.model.model import train_model\n",
    "from lumpia.pre_processing.pre_processing import drop_nan, fill_mean\n",
    "from lumpia.train_test.train_test import split\n",
    "from lumpia.evaluation.evaluation import get_roc_auc_score\n",
    "from lumpia.features.features import gen_dummies, normalize, take_log\n",
    "import numpy as np\n",
    "\n",
    "import warnings\n",
    "warnings.filterwarnings(\"ignore\")"
   ]
  },
  {
   "cell_type": "code",
   "execution_count": 2,
   "metadata": {},
   "outputs": [],
   "source": [
    "#Pre-processing: Data cleansing for proper usage\n",
    "\n",
    "churn_raw = read_data('churn_data.csv')\n",
    "churn_df = drop_nan(churn_raw, ['DataUsage','ContractRenewal'])"
   ]
  },
  {
   "cell_type": "code",
   "execution_count": 9,
   "metadata": {},
   "outputs": [
    {
     "data": {
      "text/html": [
       "<div>\n",
       "<style scoped>\n",
       "    .dataframe tbody tr th:only-of-type {\n",
       "        vertical-align: middle;\n",
       "    }\n",
       "\n",
       "    .dataframe tbody tr th {\n",
       "        vertical-align: top;\n",
       "    }\n",
       "\n",
       "    .dataframe thead th {\n",
       "        text-align: right;\n",
       "    }\n",
       "</style>\n",
       "<table border=\"1\" class=\"dataframe\">\n",
       "  <thead>\n",
       "    <tr style=\"text-align: right;\">\n",
       "      <th></th>\n",
       "      <th>AccountWeeks</th>\n",
       "      <th>DataUsage</th>\n",
       "      <th>CustServCalls</th>\n",
       "      <th>DayMins</th>\n",
       "      <th>DayCalls</th>\n",
       "      <th>MonthlyCharge</th>\n",
       "      <th>RoamMins</th>\n",
       "      <th>Churn</th>\n",
       "      <th>OverageFee</th>\n",
       "      <th>DataPlan_1</th>\n",
       "      <th>ContractRenewal_1</th>\n",
       "    </tr>\n",
       "  </thead>\n",
       "  <tbody>\n",
       "    <tr>\n",
       "      <th>0</th>\n",
       "      <td>0.676489</td>\n",
       "      <td>1.480204</td>\n",
       "      <td>-0.427932</td>\n",
       "      <td>1.566767</td>\n",
       "      <td>0.476643</td>\n",
       "      <td>1.990727</td>\n",
       "      <td>-0.085008</td>\n",
       "      <td>0</td>\n",
       "      <td>2.289500</td>\n",
       "      <td>1</td>\n",
       "      <td>1</td>\n",
       "    </tr>\n",
       "    <tr>\n",
       "      <th>1</th>\n",
       "      <td>0.149065</td>\n",
       "      <td>2.266072</td>\n",
       "      <td>-0.427932</td>\n",
       "      <td>-0.333738</td>\n",
       "      <td>1.124503</td>\n",
       "      <td>1.564510</td>\n",
       "      <td>1.240482</td>\n",
       "      <td>0</td>\n",
       "      <td>2.280339</td>\n",
       "      <td>1</td>\n",
       "      <td>1</td>\n",
       "    </tr>\n",
       "    <tr>\n",
       "      <th>2</th>\n",
       "      <td>0.902529</td>\n",
       "      <td>-0.641642</td>\n",
       "      <td>-1.188218</td>\n",
       "      <td>1.168304</td>\n",
       "      <td>0.675985</td>\n",
       "      <td>-0.262133</td>\n",
       "      <td>0.703121</td>\n",
       "      <td>0</td>\n",
       "      <td>1.801710</td>\n",
       "      <td>0</td>\n",
       "      <td>1</td>\n",
       "    </tr>\n",
       "    <tr>\n",
       "      <th>3</th>\n",
       "      <td>-0.428590</td>\n",
       "      <td>-0.641642</td>\n",
       "      <td>0.332354</td>\n",
       "      <td>2.196596</td>\n",
       "      <td>-1.466936</td>\n",
       "      <td>0.042307</td>\n",
       "      <td>-1.303026</td>\n",
       "      <td>0</td>\n",
       "      <td>1.131402</td>\n",
       "      <td>0</td>\n",
       "      <td>0</td>\n",
       "    </tr>\n",
       "    <tr>\n",
       "      <th>4</th>\n",
       "      <td>-0.654629</td>\n",
       "      <td>-0.641642</td>\n",
       "      <td>1.092641</td>\n",
       "      <td>-0.240090</td>\n",
       "      <td>0.626149</td>\n",
       "      <td>-0.931902</td>\n",
       "      <td>-0.049184</td>\n",
       "      <td>0</td>\n",
       "      <td>2.004179</td>\n",
       "      <td>0</td>\n",
       "      <td>0</td>\n",
       "    </tr>\n",
       "  </tbody>\n",
       "</table>\n",
       "</div>"
      ],
      "text/plain": [
       "   AccountWeeks  DataUsage  CustServCalls   DayMins  DayCalls  MonthlyCharge  \\\n",
       "0      0.676489   1.480204      -0.427932  1.566767  0.476643       1.990727   \n",
       "1      0.149065   2.266072      -0.427932 -0.333738  1.124503       1.564510   \n",
       "2      0.902529  -0.641642      -1.188218  1.168304  0.675985      -0.262133   \n",
       "3     -0.428590  -0.641642       0.332354  2.196596 -1.466936       0.042307   \n",
       "4     -0.654629  -0.641642       1.092641 -0.240090  0.626149      -0.931902   \n",
       "\n",
       "   RoamMins  Churn  OverageFee  DataPlan_1  ContractRenewal_1  \n",
       "0 -0.085008      0    2.289500           1                  1  \n",
       "1  1.240482      0    2.280339           1                  1  \n",
       "2  0.703121      0    1.801710           0                  1  \n",
       "3 -1.303026      0    1.131402           0                  0  \n",
       "4 -0.049184      0    2.004179           0                  0  "
      ]
     },
     "execution_count": 9,
     "metadata": {},
     "output_type": "execute_result"
    }
   ],
   "source": [
    "#Features: Creation of features depending on the database's information\n",
    "\n",
    "churn_df = gen_dummies(churn_df, ['DataPlan','ContractRenewal'])\n",
    "#Remember that our dummies function deletes the original column to be 'dummied'\n",
    "\n",
    "to_norm = ['AccountWeeks','DataUsage','CustServCalls','DayMins','DayCalls','MonthlyCharge','RoamMins']\n",
    "norm_df = normalize(churn_df, to_norm)\n",
    "\n",
    "norm_df = take_log(norm_df, ['OverageFee'])"
   ]
  },
  {
   "cell_type": "code",
   "execution_count": 4,
   "metadata": {},
   "outputs": [
    {
     "name": "stdout",
     "output_type": "stream",
     "text": [
      "Index(['AccountWeeks', 'DataUsage', 'CustServCalls', 'DayMins', 'DayCalls',\n",
      "       'MonthlyCharge', 'RoamMins', 'Churn', 'OverageFee', 'DataPlan_1',\n",
      "       'ContractRenewal_1'],\n",
      "      dtype='object')\n"
     ]
    }
   ],
   "source": [
    "print(norm_df.columns)"
   ]
  },
  {
   "cell_type": "code",
   "execution_count": 5,
   "metadata": {},
   "outputs": [],
   "source": [
    "#Split: Partition the dataset for training and testing a set model\n",
    "X_train, X_test, y_train, y_test = split(norm_df)"
   ]
  },
  {
   "cell_type": "code",
   "execution_count": 6,
   "metadata": {},
   "outputs": [],
   "source": [
    "#Trainer: Definition of a model from the dataset to make predictions\n",
    "\n",
    "target_cols = ['Churn']\n",
    "feature_cols = list(norm_df.columns).remove('Churn')\n",
    "\n",
    "results = train_model(X_train, X_test, y_train, y_test, feature_cols, target_cols)"
   ]
  },
  {
   "cell_type": "code",
   "execution_count": 7,
   "metadata": {},
   "outputs": [],
   "source": [
    "#Assessment: Evaluation of the model's performance with a given accuracy computation\n",
    "\n",
    "train_auc, test_auc = get_roc_auc_score(results)"
   ]
  }
 ],
 "metadata": {
  "kernelspec": {
   "display_name": "Python 3.9.12 ('py39')",
   "language": "python",
   "name": "python3"
  },
  "language_info": {
   "codemirror_mode": {
    "name": "ipython",
    "version": 3
   },
   "file_extension": ".py",
   "mimetype": "text/x-python",
   "name": "python",
   "nbconvert_exporter": "python",
   "pygments_lexer": "ipython3",
   "version": "3.9.12"
  },
  "orig_nbformat": 4,
  "vscode": {
   "interpreter": {
    "hash": "3b18b2102a576fc901eebdfe7fdf89596ed43efbff82a87830809427a546707d"
   }
  }
 },
 "nbformat": 4,
 "nbformat_minor": 2
}
